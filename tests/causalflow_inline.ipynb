{
 "cells": [
  {
   "cell_type": "code",
   "execution_count": 1,
   "metadata": {},
   "outputs": [],
   "source": [
    "import numpy as np\n",
    "from astropy.table import Table"
   ]
  },
  {
   "cell_type": "code",
   "execution_count": 2,
   "metadata": {},
   "outputs": [],
   "source": [
    "from causalflow import causalflow, support"
   ]
  },
  {
   "cell_type": "markdown",
   "metadata": {},
   "source": [
    "# load some demo data"
   ]
  },
  {
   "cell_type": "code",
   "execution_count": 3,
   "metadata": {},
   "outputs": [],
   "source": [
    "fema = Table.read('../dat/cano2024_dataset.hdf5')"
   ]
  },
  {
   "cell_type": "code",
   "execution_count": 4,
   "metadata": {},
   "outputs": [],
   "source": [
    "control = (fema['communityRatingSystemDiscount'] == 11.)\n",
    "treated = ~control"
   ]
  },
  {
   "cell_type": "code",
   "execution_count": 5,
   "metadata": {},
   "outputs": [],
   "source": [
    "columns = ['amountPaidOnTotalClaim_per_policy', # outcome\n",
    "           'mean_rainfall', 'avg_risk_score_all', 'median_household_income', 'population', # covariates\n",
    "           'renter_fraction', 'educated_fraction', 'white_fraction']"
   ]
  },
  {
   "cell_type": "code",
   "execution_count": 6,
   "metadata": {},
   "outputs": [],
   "source": [
    "control_data = np.vstack([np.ma.getdata(fema[col][control].data) for col in columns]).T[::10]\n",
    "control_data[:,0] = np.log10(control_data[:,0])\n",
    "control_data[:,3] = np.log10(control_data[:,3])\n",
    "control_data[:,4] = np.log10(control_data[:,4])\n",
    "\n",
    "treated_data = np.vstack([np.ma.getdata(fema[col][treated].data) for col in columns]).T[::10]\n",
    "treated_data[:,0] = np.log10(treated_data[:,0])\n",
    "treated_data[:,3] = np.log10(treated_data[:,3])\n",
    "treated_data[:,4] = np.log10(treated_data[:,4])"
   ]
  },
  {
   "cell_type": "markdown",
   "metadata": {},
   "source": [
    "# Scenario A"
   ]
  },
  {
   "cell_type": "code",
   "execution_count": 7,
   "metadata": {},
   "outputs": [],
   "source": [
    "Cflow = causalflow.CausalFlowA()"
   ]
  },
  {
   "cell_type": "code",
   "execution_count": 8,
   "metadata": {},
   "outputs": [
    {
     "name": "stdout",
     "output_type": "stream",
     "text": [
      "Ntrain= 3928, Nvalid= 437\n"
     ]
    },
    {
     "data": {
      "application/vnd.jupyter.widget-view+json": {
       "model_id": "c5cf894746a4404aa704f25a0bbfbf49",
       "version_major": 2,
       "version_minor": 0
      },
      "text/plain": [
       "Epoch:   0%|          | 0/300 [00:00<?, ?it/s]"
      ]
     },
     "metadata": {},
     "output_type": "display_data"
    }
   ],
   "source": [
    "Cflow.train_support_control(control_data[:,1:], clip_max_norm=1., verbose=True)"
   ]
  },
  {
   "cell_type": "code",
   "execution_count": 9,
   "metadata": {},
   "outputs": [
    {
     "name": "stdout",
     "output_type": "stream",
     "text": [
      "Ntrain= 2758, Nvalid= 307\n"
     ]
    },
    {
     "data": {
      "application/vnd.jupyter.widget-view+json": {
       "model_id": "ae1347e458ea46b4bac282d896d7d340",
       "version_major": 2,
       "version_minor": 0
      },
      "text/plain": [
       "Epoch:   0%|          | 0/300 [00:00<?, ?it/s]"
      ]
     },
     "metadata": {},
     "output_type": "display_data"
    }
   ],
   "source": [
    "Cflow.train_support_treated(treated_data[:,1:], clip_max_norm=1., verbose=True)"
   ]
  },
  {
   "cell_type": "code",
   "execution_count": 8,
   "metadata": {},
   "outputs": [
    {
     "name": "stderr",
     "output_type": "stream",
     "text": [
      "/opt/anaconda3/envs/noah/lib/python3.7/site-packages/sbi/neural_nets/flow.py:62: UserWarning: In one-dimensional output space, this flow is limited to Gaussians\n",
      "  warn(\"In one-dimensional output space, this flow is limited to Gaussians\")\n"
     ]
    },
    {
     "name": "stdout",
     "output_type": "stream",
     "text": [
      " Neural network successfully converged after 23 epochs."
     ]
    }
   ],
   "source": [
    "Cflow.train_flow_treated(treated_data[:,0], treated_data[:,1:], outcome_range=[[-1.], [6.]])"
   ]
  },
  {
   "cell_type": "code",
   "execution_count": null,
   "metadata": {},
   "outputs": [],
   "source": [
    "Cflow.train_flow_control(control_data[:,0], control_data[:,1:], outcome_range=[[-1.], [6.]])"
   ]
  },
  {
   "cell_type": "code",
   "execution_count": null,
   "metadata": {},
   "outputs": [],
   "source": [
    "X_random = control_data[374,1:]\n",
    "print(Cflow.CATE(X_random, Nsample=10000, progress_bar=True, transf=lambda x: 10**x))"
   ]
  },
  {
   "cell_type": "markdown",
   "metadata": {},
   "source": [
    "# Scenario B"
   ]
  },
  {
   "cell_type": "code",
   "execution_count": 7,
   "metadata": {},
   "outputs": [],
   "source": [
    "Cflow = causalflow.CausalFlowB('control')"
   ]
  },
  {
   "cell_type": "code",
   "execution_count": 8,
   "metadata": {},
   "outputs": [
    {
     "name": "stdout",
     "output_type": "stream",
     "text": [
      "Ntrain= 3928, Nvalid= 437\n"
     ]
    },
    {
     "data": {
      "application/vnd.jupyter.widget-view+json": {
       "model_id": "b4105c05e1334c23b4c7f75f9b8f2a63",
       "version_major": 2,
       "version_minor": 0
      },
      "text/plain": [
       "Epoch:   0%|          | 0/300 [00:00<?, ?it/s]"
      ]
     },
     "metadata": {},
     "output_type": "display_data"
    }
   ],
   "source": [
    "# train support for base sample\n",
    "Cflow.train_support(control_data[:,1:], nhidden=128, nblock=5, clip_max_norm=1., verbose=True)"
   ]
  },
  {
   "cell_type": "code",
   "execution_count": 9,
   "metadata": {},
   "outputs": [
    {
     "name": "stderr",
     "output_type": "stream",
     "text": [
      "/opt/anaconda3/envs/noah/lib/python3.7/site-packages/sbi/neural_nets/flow.py:62: UserWarning: In one-dimensional output space, this flow is limited to Gaussians\n",
      "  warn(\"In one-dimensional output space, this flow is limited to Gaussians\")\n"
     ]
    },
    {
     "name": "stdout",
     "output_type": "stream",
     "text": [
      " Neural network successfully converged after 25 epochs."
     ]
    }
   ],
   "source": [
    "Cflow.train_flow(control_data[:,0], control_data[:,1:], outcome_range=[[-1.], [6.]])"
   ]
  },
  {
   "cell_type": "code",
   "execution_count": 10,
   "metadata": {},
   "outputs": [],
   "source": [
    "X_other = treated_data[:10,1:]\n",
    "Y_other = treated_data[:10,0]"
   ]
  },
  {
   "cell_type": "code",
   "execution_count": 11,
   "metadata": {},
   "outputs": [
    {
     "data": {
      "text/plain": [
       "-4403.6550728752345"
      ]
     },
     "execution_count": 11,
     "metadata": {},
     "output_type": "execute_result"
    }
   ],
   "source": [
    "Cflow.CATE(X_other, Y_other, Nsample=10000, progress_bar=False, transf=lambda x: 10**x)"
   ]
  },
  {
   "cell_type": "markdown",
   "metadata": {},
   "source": [
    "# Scenario C"
   ]
  },
  {
   "cell_type": "code",
   "execution_count": 12,
   "metadata": {},
   "outputs": [],
   "source": [
    "Cflow = causalflow.CausalFlowC()"
   ]
  },
  {
   "cell_type": "code",
   "execution_count": 15,
   "metadata": {},
   "outputs": [],
   "source": [
    "fake_treatment = np.random.uniform(low=0., high=1., size=control_data.shape[0])[:,None]"
   ]
  },
  {
   "cell_type": "code",
   "execution_count": 19,
   "metadata": {},
   "outputs": [
    {
     "name": "stdout",
     "output_type": "stream",
     "text": [
      "Ntrain= 3928, Nvalid= 437\n"
     ]
    },
    {
     "data": {
      "application/vnd.jupyter.widget-view+json": {
       "model_id": "2c10ee3d92834a2d9eaa2807d042a378",
       "version_major": 2,
       "version_minor": 0
      },
      "text/plain": [
       "Epoch:   0%|          | 0/300 [00:00<?, ?it/s]"
      ]
     },
     "metadata": {},
     "output_type": "display_data"
    }
   ],
   "source": [
    "# train support for base sample\n",
    "Cflow.train_support(control_data[:,1:], fake_treatment, nhidden=128, nblock=5, clip_max_norm=1., verbose=True)"
   ]
  },
  {
   "cell_type": "code",
   "execution_count": 24,
   "metadata": {},
   "outputs": [
    {
     "name": "stderr",
     "output_type": "stream",
     "text": [
      "/opt/anaconda3/envs/noah/lib/python3.7/site-packages/sbi/neural_nets/flow.py:62: UserWarning: In one-dimensional output space, this flow is limited to Gaussians\n",
      "  warn(\"In one-dimensional output space, this flow is limited to Gaussians\")\n"
     ]
    },
    {
     "name": "stdout",
     "output_type": "stream",
     "text": [
      " Neural network successfully converged after 22 epochs."
     ]
    }
   ],
   "source": [
    "Cflow.train_flow(control_data[:,0], control_data[:,1:], fake_treatment, outcome_range=[[-1.], [6.]])"
   ]
  },
  {
   "cell_type": "code",
   "execution_count": 25,
   "metadata": {},
   "outputs": [],
   "source": [
    "X_fid = np.median(control_data[:,1:], axis=0)\n",
    "T_fid = np.array([0.5])\n",
    "dT = np.array([0.2])"
   ]
  },
  {
   "cell_type": "code",
   "execution_count": 31,
   "metadata": {},
   "outputs": [
    {
     "name": "stdout",
     "output_type": "stream",
     "text": [
      "-0.015604734\n",
      "-0.008635998\n",
      "-0.014582157\n",
      "-0.020490885\n",
      "-0.008505821\n",
      "-0.03550744\n",
      "-0.023151636\n",
      "-0.02051258\n",
      "-0.005250931\n",
      "-0.021917343\n"
     ]
    }
   ],
   "source": [
    "for i in range(10): \n",
    "    print(Cflow.CATE(X_fid, T_fid, dT, Nsample=10000, progress_bar=False))#, transf=lambda x: 10**x)"
   ]
  },
  {
   "cell_type": "code",
   "execution_count": null,
   "metadata": {},
   "outputs": [],
   "source": []
  }
 ],
 "metadata": {
  "kernelspec": {
   "display_name": "noah",
   "language": "python",
   "name": "noah"
  },
  "language_info": {
   "codemirror_mode": {
    "name": "ipython",
    "version": 3
   },
   "file_extension": ".py",
   "mimetype": "text/x-python",
   "name": "python",
   "nbconvert_exporter": "python",
   "pygments_lexer": "ipython3",
   "version": "3.7.9"
  }
 },
 "nbformat": 4,
 "nbformat_minor": 4
}
